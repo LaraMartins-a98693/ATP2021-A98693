{
 "cells": [
  {
   "cell_type": "markdown",
   "id": "e548cd79",
   "metadata": {},
   "source": [
    "# TPC2\n"
   ]
  },
  {
   "cell_type": "markdown",
   "id": "18777e08",
   "metadata": {},
   "source": [
    "### Título:Jogo de adivinhar o número"
   ]
  },
  {
   "cell_type": "markdown",
   "id": "b13a45e1",
   "metadata": {},
   "source": [
    "#### Data de início: 2021-10-15\n",
    "#### Data de fim: \n",
    "#### Supervisor: José Carlos Ramalho, \n",
    "#### Autor: Lara Martins, A98693\n",
    " \n",
    "   ###### O seguinte jogo consiste num algoritmo capaz de adivinhar um número entre 1 a 100, pensado pelo utilizador. \n",
    "   ###### O algoritmo tem como base um ciclo while, que apenas permite 7 tentativas por parte do computador (as necessárias para identificar todos os números de 1 a 100, utilizando nestas a divisão binária).\n",
    "   ###### Os números possíveis são colocados numa lista, que inicialmente contém os números de 1 a 100, e vão sendo eliminados consoante o jogador encurta o intervalo no qual o seu número se encontra.\n",
    "\n"
   ]
  },
  {
   "cell_type": "code",
   "execution_count": null,
   "id": "f3b6024c",
   "metadata": {},
   "outputs": [],
   "source": [
    "import math\n",
    "\n",
    "\n",
    "\n",
    "print(\"Pense num número de 1 a 100!\")\n",
    "print(\"O computador vai tentar adivinhar!\")\n",
    "med=50 \n",
    "print(\"O número é: \", med)\n",
    "i=0 \n",
    "y=101\n",
    "\n",
    "x=1\n",
    "while i<7:\n",
    "    numeros_possiveis=list(range(x,y))\n",
    "    adivinhou=input(str(\"Está certo ou errado?\"))\n",
    "    if adivinhou==\"certo\":\n",
    "            print(\"O computador acertou!\")\n",
    "            i=7\n",
    "            \n",
    "    elif adivinhou==\"errado\":\n",
    "            resposta=input(\"O numero é superior ou inferior a esse?\")\n",
    "            if resposta==\"inferior\":\n",
    "                numeros_possiveis=list(range(x,y-math.ceil(med)))\n",
    "                y=y-math.ceil(med)\n",
    "                med=math.ceil(med/2)\n",
    "                print(\"O número é: \",math.ceil(x+len(numeros_possiveis)/2))\n",
    "            elif resposta== \"superior\":\n",
    "                numeros_possiveis=list(range(x+math.ceil(med),y))\n",
    "                x=x+math.ceil(med)\n",
    "                med=math.ceil(med/2)\n",
    "                print(\"O número é: \",math.ceil(y-len(numeros_possiveis)/2))\n",
    "            i=i+1\n",
    "                  \n",
    "            "
   ]
  },
  {
   "cell_type": "markdown",
   "metadata": {},
   "source": []
  }
 ],
 "metadata": {
  "kernelspec": {
   "display_name": "Python 3",
   "language": "python",
   "name": "python3"
  },
  "language_info": {
   "codemirror_mode": {
    "name": "ipython",
    "version": 3
   },
   "file_extension": ".py",
   "mimetype": "text/x-python",
   "name": "python",
   "nbconvert_exporter": "python",
   "pygments_lexer": "ipython3",
   "version": "3.8.8"
  }
 },
 "nbformat": 4,
 "nbformat_minor": 5
}
